{
 "cells": [
  {
   "cell_type": "code",
   "execution_count": 1,
   "metadata": {
    "tags": [
     "hide-cell"
    ]
   },
   "outputs": [],
   "source": [
    "import numpy as np\n",
    "import matplotlib.pyplot as plt\n",
    "plt.style.use('fivethirtyeight')"
   ]
  },
  {
   "cell_type": "markdown",
   "metadata": {},
   "source": [
    "# Mechanical advantage\n",
    "\n",
    "In the diagram below, there is a 50-N force, $F$, applied downwards on a\n",
    "constrained linkage system. There is a restoring force, $R$, that\n",
    "maintains a slow change in the angle of the mechanism, $\\theta$, as it\n",
    "changes from $89^o$ to $-89^o$. Your\n",
    "goal is to determine the necessary restoring force $R$ as a\n",
    "function of angle $\\theta$. \n"
   ]
  },
  {
   "cell_type": "code",
   "execution_count": 2,
   "metadata": {
    "tags": [
     "hide-input"
    ]
   },
   "outputs": [],
   "source": [
    "from IPython.core.display import SVG\n",
    "SVG(filename='./images/position_angle.svg')"
   ]
  },
  {
   "cell_type": "markdown",
   "metadata": {},
   "source": [
    "## Kinematics\n",
    "\n",
    "This system has two rigid bodies connected at point $A$ by a pin and the\n",
    "whole system is pinned to the ground at $O$. Point $B$ slides\n",
    "along a horizontal surface. The total degrees of freedom are\n",
    "\n",
    "3 (link 1) + 3 (link 2) - 2 constraints ($O$) - 2 constraints ($A) - 1\n",
    "constraint ($B$) - 1 constraint ($\\theta$-fixed) = __0 DOF__\n",
    "\n",
    "For a given angle $\\theta$, there can only be one configuration in the\n",
    "system. Create the constraint equations using the relative position of\n",
    "point $A$ as such\n",
    "\n",
    "$\\mathbf{r}_A = \\mathbf{r}_B + \\mathbf{r}_{A/B}$\n",
    "\n",
    "where \n",
    "\n",
    "$\\mathbf{r}_A = L(\\cos\\theta \\hat{i}+ \\sin\\theta \\hat{j})$\n",
    "\n",
    "$\\mathbf{r}_B = d\\hat{i}$\n",
    "\n",
    "$\\mathbf{r}_{A/B} = L(-\\cos\\theta \\hat{i} + \\sin\\theta \\hat{j})$\n",
    "\n",
    "solving for the $\\hat{i}-$ and $\\hat{j}-$components creates two\n",
    "equations that describe the state of the system\n",
    "\n",
    "$\\theta = \\theta$ which states because we have an isosceles triangle,\n",
    "two angles have to be equal\n",
    "\n",
    "$d = 2 L \\cos\\theta$ so $\\mathbf{r}_{B} = 2L \\cos\\theta \\hat{i}$"
   ]
  },
  {
   "cell_type": "code",
   "execution_count": null,
   "metadata": {
    "lines_to_next_cell": 0,
    "tags": [
     "hide-input"
    ]
   },
   "outputs": [],
   "source": [
    "theta = np.linspace(89,-89)*np.pi/180\n",
    "d = 2*1*np.cos(theta)\n",
    "plt.plot(theta*180/np.pi, d)\n",
    "plt.xlabel(r'$\\theta$ (deg)')\n",
    "plt.ylabel('d (m)');"
   ]
  },
  {
   "cell_type": "markdown",
   "metadata": {},
   "source": []
  }
 ],
 "metadata": {
  "kernelspec": {
   "display_name": "Python 3",
   "language": "python",
   "name": "python3"
  },
  "language_info": {
   "codemirror_mode": {
    "name": "ipython",
    "version": 3
   },
   "file_extension": ".py",
   "mimetype": "text/x-python",
   "name": "python",
   "nbconvert_exporter": "python",
   "pygments_lexer": "ipython3",
   "version": "3.8.3"
  }
 },
 "nbformat": 4,
 "nbformat_minor": 4
}
