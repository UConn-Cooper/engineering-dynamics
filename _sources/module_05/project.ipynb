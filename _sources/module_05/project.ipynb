{
 "cells": [
  {
   "cell_type": "code",
   "execution_count": 1,
   "id": "e2e53ce6",
   "metadata": {
    "tags": [
     "hide-cell"
    ]
   },
   "outputs": [],
   "source": [
    "import numpy as np\n",
    "import matplotlib.pyplot as plt\n",
    "from scipy.integrate import odeint\n",
    "plt.style.use('fivethirtyeight')"
   ]
  },
  {
   "cell_type": "markdown",
   "id": "74d20b7f",
   "metadata": {},
   "source": [
    "# Module 05 - project _build an example_\n",
    "\n",
    "This is your chance to build something important to you and/or your career. If you're interested in cars you can create a drivetrain model. If you want to get into biomechanics you can model an orthopedic joint or build a 2D model of someone walking. If you love toys (_I know Prof. Cooper does!_) you can model a yoyo spinning on a cord or a spinning top or measure the coefficient of restitution of a bouncy ball on concrete. \n",
    "\n",
    "Some tips:\n",
    "- __start simple__ its often easier to _add_ complexity rather than _remove_\n",
    "  complexity if you're considering a 6-DOF system, try a 1-DOF part, then add\n",
    "components incrementally\n",
    "- __use what you have__ you have working models for four-bar linkages,\n",
    "  pendulums, and a yoyo despinning mechanism can you take your system and model\n",
    "a piece of it as a pendulum? is angular momentum conserved?\n",
    "- __communicate__ let us know what you're working on simple sketches are great!\n",
    "  don't get hung up on a final result until you have some sketches and\n",
    "conversations\n",
    "- __always draw a FBD__ this step is _so often_ skipped, but its really where\n",
    "  the bulk of your engineering work is decided. The FBD is your main\n",
    "contribution to any engineering project, everything else is a combination of\n",
    "puzzle-solving and applied mathematics\n"
   ]
  },
  {
   "cell_type": "code",
   "execution_count": null,
   "id": "1ee224bc",
   "metadata": {},
   "outputs": [],
   "source": []
  },
  {
   "cell_type": "markdown",
   "id": "385ca679",
   "metadata": {},
   "source": [
    "## Proposed Outline:\n",
    "\n",
    "### Background\n",
    "\n",
    "- What are you trying to model?\n",
    "- How are you simplifying the model (here: aim for rigid bodies, massless springs, etc.)\n",
    "- Draw a free body diagram and show the motion\n",
    "\n",
    "### Model and method\n",
    "\n",
    "- Show how you create your model: aim to explain to another student in CE2120\n",
    "- State your assumptions, constants, equations\n",
    "- Show your analysis\n",
    "- What is important about your result? Show a graph or two to demonstrate what's important\n",
    "\n",
    "### Wrapping up\n",
    "\n",
    "- What was the original goal in your background? How did you meet the goal?\n",
    "- What was an interesting fact you learned from this analysis? Did it change how you see this device?\n",
    "- Any next steps? were there missing parts to the analysis? how could you make it better?\n"
   ]
  },
  {
   "cell_type": "code",
   "execution_count": null,
   "id": "39a8c8d5",
   "metadata": {},
   "outputs": [],
   "source": []
  }
 ],
 "metadata": {
  "kernelspec": {
   "display_name": "Python 3",
   "language": "python",
   "name": "python3"
  },
  "language_info": {
   "codemirror_mode": {
    "name": "ipython",
    "version": 3
   },
   "file_extension": ".py",
   "mimetype": "text/x-python",
   "name": "python",
   "nbconvert_exporter": "python",
   "pygments_lexer": "ipython3",
   "version": "3.9.4"
  }
 },
 "nbformat": 4,
 "nbformat_minor": 5
}
