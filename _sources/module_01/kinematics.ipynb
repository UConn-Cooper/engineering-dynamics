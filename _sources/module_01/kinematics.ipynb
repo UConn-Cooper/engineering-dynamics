{
 "cells": [
  {
   "cell_type": "markdown",
   "metadata": {},
   "source": [
    "# Geometry of motion - kinematics\n",
    "\n",
    "## Position\n",
    "\n",
    "Classical physics describes the position of an object using three\n",
    "independent coordinates e.g. \n",
    "\n",
    "<a id='position'></a>\n",
    "\\begin{equation}\n",
    "\\mathbf{r}_{P/O} = x\\hat{i} + y\\hat{j} + z\\hat{k}\n",
    "\\end{equation}\n",
    "\n",
    "where $\\mathbf{r}_{P/O}$ is the position of point $P$ _with respect to the point\n",
    "of origin_ $O$, $x,~y,~z$ are magnitudes of distance along a\n",
    "Cartesian coordinate system and $\\hat{i},~\\hat{j}$ and $\\hat{k}$ are\n",
    "unit vectors that describe three "
   ]
  },
  {
   "cell_type": "code",
   "execution_count": 4,
   "metadata": {
    "tags": [
     "hide-cell"
    ]
   },
   "outputs": [],
   "source": [
    "import numpy as np\n",
    "import matplotlib.pyplot as plt\n",
    "plt.style.use('fivethirtyeight')"
   ]
  },
  {
   "cell_type": "markdown",
   "metadata": {},
   "source": [
    "## Velocity\n",
    "\n",
    "The velocity of an object is the change in [position](#position) per length of time.\n",
    "<a id='velociy'></a>\n",
    "\n",
    "\\begin{equation}\n",
    "\\mathbf{v}_{P/O} = \\frac{d\\mathbf{r}_{P/O}}{dt} = \\dot{x}\\hat{i} + \\dot{y}\\hat{j} +\n",
    "\\dot{z}\\hat{k}\n",
    "\\end{equation}\n",
    "\n",
    "> __Note:__ The notation $\\dot{x}$ and $\\ddot{x}$ is short-hand for writing out\n",
    "> $\\frac{dx}{dt}$ and $\\frac{d^2x}{dt^2}$, respectively.\n",
    "\n",
    "The definition of velocity in equation {eq}`velocity` depends upon the change in position of all\n",
    "three independent coordinates, where\n",
    "$\\frac{d}{dt}(x\\hat{i})=\\dot{x}\\hat{i}$. \n",
    "\n",
    "## Example - GPS vs speedometer\n",
    "You can find velocity based upon postion, but you can only find changes\n",
    "in position with velocity. Consider tracking the motion of a car driving\n",
    "down a road using GPS. You determine its motion and create the position,\n",
    "$\\mathbf{r} = x\\hat{i} +y\\hat{j}$, where"
   ]
  },
  {
   "cell_type": "markdown",
   "metadata": {},
   "source": [
    "$x(t) = 4t + 3$ and $y(t) = 3t - 1$\n",
    "\n",
    "To get the velocity, calculate $\\mathbf{v} = \\dot{\\mathbf{r}}$\n",
    "\n",
    "$\\mathbf{v} = 4\\hat{i} +3 \\hat{j}$"
   ]
  },
  {
   "cell_type": "code",
   "execution_count": null,
   "metadata": {
    "lines_to_next_cell": 0,
    "tags": [
     "hide-input"
    ]
   },
   "outputs": [],
   "source": [
    "t = np.arange(0,5)\n",
    "x = 4*t + 3\n",
    "y = 3*t -1\n",
    "plt.plot(x,y,'o')\n",
    "plt.quiver(x,y,4,3)\n",
    "plt.title('Position of car on road every 1 second'+\n",
    "    '\\nvelocity shown as arrow')\n",
    "plt.xlabel('x-position (m)')\n",
    "plt.ylabel('y-position (m)');"
   ]
  },
  {
   "cell_type": "markdown",
   "id": "placed-union",
   "metadata": {},
   "source": [
    "## Speed\n",
    "\n",
    "The speed of an object is the\n",
    "[magnitude](https://www.mathsisfun.com/algebra/vectors.html) of the\n",
    "velocity, \n",
    "\n",
    "$|\\mathbf{v}_{P/O}| = \\sqrt{\\mathbf{v}\\cdot\\mathbf{v}} =\n",
    "\\sqrt{\\dot{x}^2 + \\dot{y}^2 + \\dot{z}^2}$"
   ]
  },
  {
   "cell_type": "markdown",
   "id": "worthy-rogers",
   "metadata": {},
   "source": [
    "### Remember the chain rule\n",
    "In Dynamics, there are many moving parts, so it is usually safer to\n",
    "assume that a variable is a function of time. Consider the derivative of\n",
    "position, \n",
    "\\begin{equation}\n",
    "\\frac{d}{dt}(x\\hat{i}+y\\hat{j}) = \\dot{x}\\hat{i} + \\dot{y}\\hat{j} +\n",
    "x\\dot{\\hat{i}} + y\\dot{\\hat{j}}, \n",
    "\\end{equation}\n",
    "\n",
    "in a fixed coordinate system (like the ground)\n",
    "$\\dot{\\hat{i}}=\\dot{\\hat{j}}=0$ because these unit vectors do not change direction.\n",
    "\n",
    "### Chain rule in dynamics\n",
    "\n",
    "In calculus, many times the [chain rule](https://en.wikipedia.org/wiki/Chain_rule) is shown as an example\n",
    "\n",
    "- $$\\frac{d}{dx}(\\sin x^2) = \\frac{d}{dx}(x^2)\\cdot \\cos x^2$$ \n",
    "- $$\\frac{d}{dx}(\\sin x^2)= 2x\\cos x^2$$\n",
    "\n",
    "When you do this calculation, you have used the chain rule, but there is\n",
    "a hidden step _multiplying by a chain rule operator_\n",
    "$$\\frac{dx^2}{dx^2}$$:\n",
    "- $$\\frac{d}{dx}(\\sin x^2) = \\frac{dx^2}{dx}\\frac{d}{dx^2}\\cdot \\cos\n",
    "x^2$$\n",
    "-  $$\\frac{d}{dx}(\\sin x^2) =\n",
    "\\frac{d}{dx}{x^2}\\cdot\\frac{d}{dx^2}(\\cos x^2)$$ \n",
    "- $$\\frac{d}{dx}(\\sin x^2) = \\frac{d}{dx}(x^2)\\cdot \\cos x^2$$ \n",
    "- $$\\frac{d}{dx}(\\sin x^2)= 2x\\cos x^2$$\n",
    "\n",
    "The chain rule in our case is used for functions of time, $$t$$\n",
    "e.g. $$x(t),~y(t),~\\theta(t)$$\n",
    "\n",
    "So, when you take a derivative of a function:\n",
    "\n",
    "- $$\\frac{d}{dt}\\sin\\theta =\n",
    "\\frac{d\\theta}{dt}\\frac{d}{d\\theta}\\sin\\theta$$\n",
    "- $$\\frac{d}{dt}\\sin\\theta =\\frac{d\\theta}{dt}\\cos\\theta$$\n",
    "- $$\\frac{d}{dt}\\sin\\theta =\\dot{\\theta}\\cos\\theta$$"
   ]
  },
  {
   "cell_type": "markdown",
   "metadata": {},
   "source": [
    "## Acceleration\n",
    "\n",
    "The acceleration of an object is the change in velocity per length of\n",
    "time. \n",
    "\n",
    "$\\mathbf{a}_{P/O} = \\frac{d \\mathbf{v}_{P/O} }{dt} = \\ddot{x}\\hat{i} +\n",
    "\\ddot{y}\\hat{j} + \\ddot{z}\\hat{k}$\n",
    "\n",
    "where $\\ddot{x}=\\frac{d^2 x}{dt^2}$ and $\\mathbf{a}_{P/O}$ is the\n",
    "acceleration of point $P$ _with respect to the point of origin_ $O$. \n",
    "\n",
    "## Rotation and Orientation\n",
    "\n",
    "The definitions of position, velocity, and acceleration all describe a\n",
    "single point, but dynamic engineering systems are composed of rigid\n",
    "bodies is needed to describe the position of an object. "
   ]
  },
  {
   "cell_type": "code",
   "execution_count": 1,
   "metadata": {
    "tags": [
     "hide-input"
    ]
   },
   "outputs": [
    {
     "data": {
      "image/svg+xml": [
       "<svg xmlns:dc=\"http://purl.org/dc/elements/1.1/\" xmlns:cc=\"http://creativecommons.org/ns#\" xmlns:rdf=\"http://www.w3.org/1999/02/22-rdf-syntax-ns#\" xmlns:svg=\"http://www.w3.org/2000/svg\" xmlns=\"http://www.w3.org/2000/svg\" xmlns:sodipodi=\"http://sodipodi.sourceforge.net/DTD/sodipodi-0.dtd\" xmlns:inkscape=\"http://www.inkscape.org/namespaces/inkscape\" width=\"4in\" height=\"3in\" viewBox=\"0 0 101.6 76.200002\" version=\"1.1\" id=\"svg1288\" inkscape:version=\"1.0.1 (3bc2e813f5, 2020-09-07)\" sodipodi:docname=\"position_angle.svg\">\n",
       "  <defs id=\"defs1282\">\n",
       "    <marker style=\"overflow:visible;\" id=\"marker2611\" refX=\"0.0\" refY=\"0.0\" orient=\"auto\" inkscape:stockid=\"Arrow1Mend\" inkscape:isstock=\"true\">\n",
       "      <path transform=\"scale(0.4) rotate(180) translate(10,0)\" style=\"fill-rule:evenodd;stroke:#000000;stroke-width:1pt;stroke-opacity:1;fill:#000000;fill-opacity:1\" d=\"M 0.0,0.0 L 5.0,-5.0 L -12.5,0.0 L 5.0,5.0 L 0.0,0.0 z \" id=\"path2609\"/>\n",
       "    </marker>\n",
       "    <marker style=\"overflow:visible;\" id=\"Arrow1Mend\" refX=\"0.0\" refY=\"0.0\" orient=\"auto\" inkscape:stockid=\"Arrow1Mend\" inkscape:isstock=\"true\" inkscape:collect=\"always\">\n",
       "      <path transform=\"scale(0.4) rotate(180) translate(10,0)\" style=\"fill-rule:evenodd;stroke:#000000;stroke-width:1pt;stroke-opacity:1;fill:#000000;fill-opacity:1\" d=\"M 0.0,0.0 L 5.0,-5.0 L -12.5,0.0 L 5.0,5.0 L 0.0,0.0 z \" id=\"path1864\"/>\n",
       "    </marker>\n",
       "    <marker style=\"overflow:visible\" id=\"Arrow1Mstart\" refX=\"0.0\" refY=\"0.0\" orient=\"auto\" inkscape:stockid=\"Arrow1Mstart\" inkscape:isstock=\"true\">\n",
       "      <path transform=\"scale(0.4) translate(10,0)\" style=\"fill-rule:evenodd;stroke:#000000;stroke-width:1pt;stroke-opacity:1;fill:#000000;fill-opacity:1\" d=\"M 0.0,0.0 L 5.0,-5.0 L -12.5,0.0 L 5.0,5.0 L 0.0,0.0 z \" id=\"path1861\"/>\n",
       "    </marker>\n",
       "    <marker style=\"overflow:visible\" id=\"Arrow1Mstart-7\" refX=\"0\" refY=\"0\" orient=\"auto\" inkscape:stockid=\"Arrow1Mstart\" inkscape:isstock=\"true\">\n",
       "      <path transform=\"matrix(0.4,0,0,0.4,4,0)\" style=\"fill:#000000;fill-opacity:1;fill-rule:evenodd;stroke:#000000;stroke-width:1pt;stroke-opacity:1\" d=\"M 0,0 5,-5 -12.5,0 5,5 Z\" id=\"path1861-6\"/>\n",
       "    </marker>\n",
       "    <marker style=\"overflow:visible\" id=\"Arrow1Mend-5\" refX=\"0\" refY=\"0\" orient=\"auto\" inkscape:stockid=\"Arrow1Mend\" inkscape:isstock=\"true\">\n",
       "      <path transform=\"matrix(-0.4,0,0,-0.4,-4,0)\" style=\"fill:#000000;fill-opacity:1;fill-rule:evenodd;stroke:#000000;stroke-width:1pt;stroke-opacity:1\" d=\"M 0,0 5,-5 -12.5,0 5,5 Z\" id=\"path1864-6\"/>\n",
       "    </marker>\n",
       "    <marker style=\"overflow:visible\" id=\"Arrow1Mstart-74\" refX=\"0\" refY=\"0\" orient=\"auto\" inkscape:stockid=\"Arrow1Mstart\" inkscape:isstock=\"true\">\n",
       "      <path transform=\"matrix(0.4,0,0,0.4,4,0)\" style=\"fill:#000000;fill-opacity:1;fill-rule:evenodd;stroke:#000000;stroke-width:1pt;stroke-opacity:1\" d=\"M 0,0 5,-5 -12.5,0 5,5 Z\" id=\"path1861-5\"/>\n",
       "    </marker>\n",
       "    <marker style=\"overflow:visible\" id=\"Arrow1Mend-2\" refX=\"0\" refY=\"0\" orient=\"auto\" inkscape:stockid=\"Arrow1Mend\" inkscape:isstock=\"true\">\n",
       "      <path transform=\"matrix(-0.4,0,0,-0.4,-4,0)\" style=\"fill:#000000;fill-opacity:1;fill-rule:evenodd;stroke:#000000;stroke-width:1pt;stroke-opacity:1\" d=\"M 0,0 5,-5 -12.5,0 5,5 Z\" id=\"path1864-5\"/>\n",
       "    </marker>\n",
       "    <marker style=\"overflow:visible\" id=\"Arrow1Mstart-7-4\" refX=\"0\" refY=\"0\" orient=\"auto\" inkscape:stockid=\"Arrow1Mstart\" inkscape:isstock=\"true\">\n",
       "      <path transform=\"matrix(0.4,0,0,0.4,4,0)\" style=\"fill:#000000;fill-opacity:1;fill-rule:evenodd;stroke:#000000;stroke-width:1pt;stroke-opacity:1\" d=\"M 0,0 5,-5 -12.5,0 5,5 Z\" id=\"path1861-6-4\"/>\n",
       "    </marker>\n",
       "    <marker style=\"overflow:visible\" id=\"marker2611-3\" refX=\"0\" refY=\"0\" orient=\"auto\" inkscape:stockid=\"Arrow1Mend\" inkscape:isstock=\"true\">\n",
       "      <path transform=\"matrix(-0.4,0,0,-0.4,-4,0)\" style=\"fill:#000000;fill-opacity:1;fill-rule:evenodd;stroke:#000000;stroke-width:1pt;stroke-opacity:1\" d=\"M 0,0 5,-5 -12.5,0 5,5 Z\" id=\"path2609-0\"/>\n",
       "    </marker>\n",
       "    <marker style=\"overflow:visible\" id=\"Arrow1Mstart-7-8\" refX=\"0\" refY=\"0\" orient=\"auto\" inkscape:stockid=\"Arrow1Mstart\" inkscape:isstock=\"true\">\n",
       "      <path transform=\"matrix(0.4,0,0,0.4,4,0)\" style=\"fill:#000000;fill-opacity:1;fill-rule:evenodd;stroke:#000000;stroke-width:1pt;stroke-opacity:1\" d=\"M 0,0 5,-5 -12.5,0 5,5 Z\" id=\"path1861-6-6\"/>\n",
       "    </marker>\n",
       "    <marker style=\"overflow:visible\" id=\"marker2611-8\" refX=\"0\" refY=\"0\" orient=\"auto\" inkscape:stockid=\"Arrow1Mend\" inkscape:isstock=\"true\">\n",
       "      <path transform=\"matrix(-0.4,0,0,-0.4,-4,0)\" style=\"fill:#000000;fill-opacity:1;fill-rule:evenodd;stroke:#000000;stroke-width:1pt;stroke-opacity:1\" d=\"M 0,0 5,-5 -12.5,0 5,5 Z\" id=\"path2609-8\"/>\n",
       "    </marker>\n",
       "    <marker style=\"overflow:visible\" id=\"Arrow1Mstart-7-4-4\" refX=\"0\" refY=\"0\" orient=\"auto\" inkscape:stockid=\"Arrow1Mstart\" inkscape:isstock=\"true\">\n",
       "      <path transform=\"matrix(0.4,0,0,0.4,4,0)\" style=\"fill:#000000;fill-opacity:1;fill-rule:evenodd;stroke:#000000;stroke-width:1pt;stroke-opacity:1\" d=\"M 0,0 5,-5 -12.5,0 5,5 Z\" id=\"path1861-6-4-3\"/>\n",
       "    </marker>\n",
       "    <marker style=\"overflow:visible\" id=\"marker2611-3-1\" refX=\"0\" refY=\"0\" orient=\"auto\" inkscape:stockid=\"Arrow1Mend\" inkscape:isstock=\"true\">\n",
       "      <path transform=\"matrix(-0.4,0,0,-0.4,-4,0)\" style=\"fill:#000000;fill-opacity:1;fill-rule:evenodd;stroke:#000000;stroke-width:1pt;stroke-opacity:1\" d=\"M 0,0 5,-5 -12.5,0 5,5 Z\" id=\"path2609-0-4\"/>\n",
       "    </marker>\n",
       "  </defs>\n",
       "  <sodipodi:namedview id=\"base\" pagecolor=\"#ffffff\" bordercolor=\"#666666\" borderopacity=\"1.0\" inkscape:pageopacity=\"0.0\" inkscape:pageshadow=\"2\" inkscape:zoom=\"1.3258252\" inkscape:cx=\"188.09286\" inkscape:cy=\"97.046933\" inkscape:document-units=\"mm\" inkscape:current-layer=\"layer1\" inkscape:document-rotation=\"0\" showgrid=\"false\" units=\"in\" inkscape:window-width=\"1343\" inkscape:window-height=\"846\" inkscape:window-x=\"0\" inkscape:window-y=\"38\" inkscape:window-maximized=\"0\"/>\n",
       "  <metadata id=\"metadata1285\">\n",
       "    <rdf:RDF>\n",
       "      <cc:Work rdf:about=\"\">\n",
       "        <dc:format>image/svg+xml</dc:format>\n",
       "        <dc:type rdf:resource=\"http://purl.org/dc/dcmitype/StillImage\"/>\n",
       "        <dc:title/>\n",
       "      </cc:Work>\n",
       "    </rdf:RDF>\n",
       "  </metadata>\n",
       "  <g inkscape:label=\"Layer 1\" inkscape:groupmode=\"layer\" id=\"layer1\">\n",
       "    <rect style=\"fill:#ffffff;fill-opacity:1;stroke:#000000;stroke-width:0.477077;stroke-miterlimit:4;stroke-dasharray:none;stroke-opacity:1\" id=\"rect1851\" width=\"28.643866\" height=\"20.155411\" x=\"9.7402191\" y=\"20.082235\" ry=\"1.3087782\"/>\n",
       "    <path style=\"fill:none;stroke:#000000;stroke-width:0.477077;stroke-linecap:butt;stroke-linejoin:miter;stroke-miterlimit:4;stroke-dasharray:none;stroke-opacity:1;marker-start:url(#Arrow1Mstart);marker-end:url(#Arrow1Mend)\" d=\"M 1.4405587,16.343036 V 54.854794 H 44.602212\" id=\"path1853\"/>\n",
       "    <rect style=\"fill:#ffffff;fill-opacity:1;stroke:#000000;stroke-width:0.477078;stroke-miterlimit:4;stroke-dasharray:none;stroke-opacity:1\" id=\"rect1851-4\" width=\"28.643866\" height=\"20.155411\" x=\"17.867367\" y=\"68.864899\" ry=\"1.3087782\" transform=\"rotate(-47.098485)\"/>\n",
       "    <path style=\"fill:none;stroke:#000000;stroke-width:0.477078;stroke-linecap:butt;stroke-linejoin:miter;stroke-miterlimit:4;stroke-dasharray:none;stroke-opacity:1;marker-start:url(#Arrow1Mstart-74);marker-end:url(#Arrow1Mend-2)\" d=\"M 57.118376,16.343033 V 54.854792 H 100.28001\" id=\"path1853-7\"/>\n",
       "    <path style=\"fill:#ffffff;fill-opacity:1;stroke:#000000;stroke-width:0.529167;stroke-miterlimit:4;stroke-dasharray:none;stroke-opacity:1\" id=\"path2593\" sodipodi:type=\"arc\" sodipodi:cx=\"23.820122\" sodipodi:cy=\"30.513292\" sodipodi:rx=\"0.77875519\" sodipodi:ry=\"0.77875519\" sodipodi:start=\"0\" sodipodi:end=\"6.2813004\" sodipodi:open=\"true\" sodipodi:arc-type=\"arc\" d=\"m 24.598877,30.513292 a 0.77875519,0.77875519 0 0 1 -0.778388,0.778755 0.77875519,0.77875519 0 0 1 -0.779122,-0.778021 0.77875519,0.77875519 0 0 1 0.777654,-0.779488 0.77875519,0.77875519 0 0 1 0.779855,0.777286\"/>\n",
       "    <path style=\"fill:none;stroke:#000000;stroke-width:0.529167;stroke-linecap:butt;stroke-linejoin:miter;stroke-miterlimit:4;stroke-dasharray:none;stroke-opacity:1;marker-start:url(#Arrow1Mstart-7);marker-end:url(#marker2611)\" d=\"M 23.822764,32.099325 V 53.900782\" id=\"path2595\" sodipodi:nodetypes=\"cc\"/>\n",
       "    <path style=\"fill:none;stroke:#000000;stroke-width:0.529167;stroke-linecap:butt;stroke-linejoin:miter;stroke-miterlimit:4;stroke-dasharray:none;stroke-opacity:1;marker-start:url(#Arrow1Mstart-7-4);marker-end:url(#marker2611-3)\" d=\"M 22.054433,30.544989 H 2.448149\" id=\"path2595-7\" sodipodi:nodetypes=\"cc\"/>\n",
       "    <text xml:space=\"preserve\" style=\"font-style:normal;font-weight:normal;font-size:10.5833px;line-height:1.25;font-family:sans-serif;fill:#000000;fill-opacity:1;stroke:none;stroke-width:0.264583\" x=\"26.320551\" y=\"48.12138\" id=\"text2852\"><tspan sodipodi:role=\"line\" id=\"tspan2850\" x=\"26.320551\" y=\"48.12138\" style=\"stroke-width:0.264583\">y</tspan></text>\n",
       "    <text xml:space=\"preserve\" style=\"font-style:normal;font-weight:normal;font-size:10.5833px;line-height:1.25;font-family:sans-serif;fill:#000000;fill-opacity:1;stroke:none;stroke-width:0.264583\" x=\"4.1608448\" y=\"29.279934\" id=\"text2856\"><tspan sodipodi:role=\"line\" id=\"tspan2854\" x=\"4.1608448\" y=\"29.279934\" style=\"stroke-width:0.264583\">x</tspan></text>\n",
       "    <path style=\"fill:#ffffff;fill-opacity:1;stroke:#000000;stroke-width:0.529167;stroke-miterlimit:4;stroke-dasharray:none;stroke-opacity:1\" id=\"path2593-9\" sodipodi:type=\"arc\" sodipodi:cx=\"79.650391\" sodipodi:cy=\"30.558138\" sodipodi:rx=\"0.77875519\" sodipodi:ry=\"0.77875519\" sodipodi:start=\"0\" sodipodi:end=\"6.2813004\" sodipodi:open=\"true\" sodipodi:arc-type=\"arc\" d=\"m 80.429146,30.558138 a 0.77875519,0.77875519 0 0 1 -0.778388,0.778755 0.77875519,0.77875519 0 0 1 -0.779122,-0.778021 0.77875519,0.77875519 0 0 1 0.777654,-0.779489 0.77875519,0.77875519 0 0 1 0.779854,0.777287\"/>\n",
       "    <path style=\"fill:none;stroke:#000000;stroke-width:0.529167;stroke-linecap:butt;stroke-linejoin:miter;stroke-miterlimit:4;stroke-dasharray:none;stroke-opacity:1;marker-start:url(#Arrow1Mstart-7-8);marker-end:url(#marker2611-8)\" d=\"M 79.653039,32.14417 V 53.945628\" id=\"path2595-2\" sodipodi:nodetypes=\"cc\"/>\n",
       "    <path style=\"fill:none;stroke:#000000;stroke-width:0.529167;stroke-linecap:butt;stroke-linejoin:miter;stroke-miterlimit:4;stroke-dasharray:none;stroke-opacity:1;marker-start:url(#Arrow1Mstart-7-4-4);marker-end:url(#marker2611-3-1)\" d=\"M 77.884708,30.589834 H 58.278424\" id=\"path2595-7-0\" sodipodi:nodetypes=\"cc\"/>\n",
       "    <text xml:space=\"preserve\" style=\"font-style:normal;font-weight:normal;font-size:10.5833px;line-height:1.25;font-family:sans-serif;fill:#000000;fill-opacity:1;stroke:none;stroke-width:0.264583\" x=\"82.150826\" y=\"48.166229\" id=\"text2852-6\"><tspan sodipodi:role=\"line\" id=\"tspan2850-8\" x=\"82.150826\" y=\"48.166229\" style=\"stroke-width:0.264583\">y</tspan></text>\n",
       "    <text xml:space=\"preserve\" style=\"font-style:normal;font-weight:normal;font-size:10.5833px;line-height:1.25;font-family:sans-serif;fill:#000000;fill-opacity:1;stroke:none;stroke-width:0.264583\" x=\"59.991112\" y=\"29.32478\" id=\"text2856-9\"><tspan sodipodi:role=\"line\" id=\"tspan2854-2\" x=\"59.991112\" y=\"29.32478\" style=\"stroke-width:0.264583\">x</tspan></text>\n",
       "    <text xml:space=\"preserve\" style=\"font-style:normal;font-weight:normal;font-size:10.5833px;line-height:1.25;font-family:sans-serif;fill:#000000;fill-opacity:1;stroke:none;stroke-width:0.264583\" x=\"47.692436\" y=\"35.624062\" id=\"text3215\"><tspan sodipodi:role=\"line\" id=\"tspan3213\" x=\"47.692436\" y=\"35.624062\" style=\"stroke-width:0.264583\">≠</tspan></text>\n",
       "  </g>\n",
       "</svg>"
      ],
      "text/plain": [
       "<IPython.core.display.SVG object>"
      ]
     },
     "execution_count": 1,
     "metadata": {},
     "output_type": "execute_result"
    }
   ],
   "source": [
    "from IPython.core.display import SVG\n",
    "\n",
    "SVG(filename='./images/position_angle.svg')"
   ]
  },
  {
   "cell_type": "markdown",
   "metadata": {},
   "source": [
    "_In the figure above, the center of the block is located at\n",
    "$r_{P/O}=x\\hat{i}+y\\hat{j}$ in both the left and right images, but the\n",
    "two locations are not the same. The orientation of the block is\n",
    "important for determining the position of all the material points._\n",
    "\n",
    "In general, a rigid body has a _pitch_, _yaw_, and _roll_ that describes\n",
    "its rotational orientation, as seen in the animation below. We will\n",
    "revisit 3D motion in Module_05\n"
   ]
  },
  {
   "cell_type": "code",
   "execution_count": null,
   "metadata": {
    "lines_to_next_cell": 0,
    "tags": [
     "hide-input"
    ]
   },
   "outputs": [],
   "source": [
    "from IPython.display import YouTubeVideo\n",
    "vid = YouTubeVideo(\"li7t--8UZms?loop=1\")\n",
    "display(vid)"
   ]
  },
  {
   "cell_type": "markdown",
   "metadata": {},
   "source": [
    "## Rotation in planar motion\n",
    "\n",
    "Our initial focus is planar rotations e.g. yaw and roll are fixed. For a\n",
    "body constrained to planar motion, you need 3 independent measurements\n",
    "to describe its position e.g. $x$, $y$, and $\\theta$"
   ]
  }
 ],
 "metadata": {
  "kernelspec": {
   "display_name": "Python 3",
   "language": "python",
   "name": "python3"
  },
  "language_info": {
   "codemirror_mode": {
    "name": "ipython",
    "version": 3
   },
   "file_extension": ".py",
   "mimetype": "text/x-python",
   "name": "python",
   "nbconvert_exporter": "python",
   "pygments_lexer": "ipython3",
   "version": "3.8.3"
  }
 },
 "nbformat": 4,
 "nbformat_minor": 4
}
