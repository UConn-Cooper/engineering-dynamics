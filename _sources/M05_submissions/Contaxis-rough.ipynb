{
 "cells": [
  {
   "cell_type": "markdown",
   "id": "58ed6c2a",
   "metadata": {},
   "source": [
    "# Project proposal - robotic arm\n",
    "\n",
    "[robotic arm pdf](https://github.com/cooperrc/engineering-dynamics/blob/master/M05_submissions/Draft%20for%20Module%205.pdf)"
   ]
  },
  {
   "cell_type": "code",
   "execution_count": null,
   "id": "7a4ac752",
   "metadata": {},
   "outputs": [],
   "source": []
  }
 ],
 "metadata": {
  "kernelspec": {
   "display_name": "Python 3",
   "language": "python",
   "name": "python3"
  },
  "language_info": {
   "codemirror_mode": {
    "name": "ipython",
    "version": 3
   },
   "file_extension": ".py",
   "mimetype": "text/x-python",
   "name": "python",
   "nbconvert_exporter": "python",
   "pygments_lexer": "ipython3",
   "version": "3.9.4"
  }
 },
 "nbformat": 4,
 "nbformat_minor": 5
}
