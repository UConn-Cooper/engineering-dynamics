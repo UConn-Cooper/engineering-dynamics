{
 "cells": [
  {
   "cell_type": "code",
   "execution_count": 1,
   "id": "available-charger",
   "metadata": {},
   "outputs": [],
   "source": [
    "import numpy as np\n",
    "import matplotlib.pyplot as plt\n",
    "from scipy.integrate import odeint"
   ]
  },
  {
   "cell_type": "markdown",
   "id": "deluxe-liberty",
   "metadata": {},
   "source": [
    "# Numerical Solution of Yoyo despinning\n",
    "\n",
    "$\\ddot{r} = r \\dot{\\theta}^2$\n",
    "\n",
    "$\\ddot{r} = r\\left(\\frac{2mr_0^2+MR^2/2}{2mr^2+MR^2/2}\\right)^2 \\dot{\\theta}(0)$"
   ]
  },
  {
   "cell_type": "markdown",
   "id": "established-blast",
   "metadata": {},
   "source": [
    "Here we plot the relation between angular velocity and distance from center of cylinder just based upon conservation of angular momentum:"
   ]
  },
  {
   "cell_type": "code",
   "execution_count": 2,
   "id": "bibliographic-brisbane",
   "metadata": {},
   "outputs": [
    {
     "data": {
      "image/png": "[encoded data removed]",
      "text/plain": [
       "<Figure size 432x288 with 1 Axes>"
      ]
     },
     "metadata": {
      "filenames": {
       "image/png": "/home/ryan/Documents/UConn/CE2120/dynamics_textbook/dynamics/_build/jupyter_execute/module_04/yoyo-despin_3_0.png"
      },
      "needs_background": "light"
     },
     "output_type": "display_data"
    }
   ],
   "source": [
    "m=0.1 #kg\n",
    "M=1 #kg\n",
    "R=0.1 #meter\n",
    "w0=10 # rad/s\n",
    "r=np.linspace(0.1,2)\n",
    "h0=(2*m*r[0]**2+M*r[0]**2/2)*w0\n",
    "\n",
    "wt = h0/(2*m*r**2+M*R**2/2)\n",
    "\n",
    "plt.plot(r,wt)\n",
    "plt.xlabel('yoyo distance (m)')\n",
    "plt.ylabel('angular velocity (rad/s)')\n",
    "plt.title('conservation of angular momentum\\n h=constant');"
   ]
  },
  {
   "cell_type": "markdown",
   "id": "pending-genius",
   "metadata": {},
   "source": [
    "# Define the state and d/dt(state)\n",
    "\n",
    "In this part, we define the second order differential equation as a state-space form\n",
    "\n",
    "the state = $[r,~\\dot{r}]$\n",
    "\n",
    "and the derivative of the state is\n",
    "\n",
    "d/dt(state) = $[\\dot{r},~\\ddot{r}]=[\\dot{r},~\\frac{F_r}{m}]$\n",
    "\n",
    "We call the function, `yoyo_ode(y,t)`, where `y` is the state and `t` is the current time."
   ]
  },
  {
   "cell_type": "code",
   "execution_count": 3,
   "id": "preceding-profit",
   "metadata": {},
   "outputs": [],
   "source": [
    "def yoyo_ode(y,t):\n",
    "    '''define d2r/dt2= r*(h0/2m)^2/(M*R^2/4m+r^2)^2'''\n",
    "    dr=np.zeros(np.shape(y))\n",
    "    dr[0]=y[1]\n",
    "    dr[1]=y[0]*h0**2/(2*m*y[0]**2+M*R**2/2)**2\n",
    "    return dr"
   ]
  },
  {
   "cell_type": "code",
   "execution_count": 4,
   "id": "hourly-fields",
   "metadata": {},
   "outputs": [
    {
     "data": {
      "text/plain": [
       "array([1.        , 8.14404432])"
      ]
     },
     "execution_count": 4,
     "metadata": {},
     "output_type": "execute_result"
    }
   ],
   "source": [
    "yoyo_ode([0.15,1],0)"
   ]
  },
  {
   "cell_type": "markdown",
   "id": "incoming-verification",
   "metadata": {},
   "source": [
    "The function `odeint` integrates our `yoyo_ode` based upon the initial condtions, \n",
    "\n",
    "$[r(0),~\\dot{r}(0)] = [0.1~m,~0~m/s]$\n",
    "\n",
    "and the time span of interest, \n",
    "\n",
    "$t = [0-0.5~s]$\n",
    "\n",
    "in the line, `t=np.linspace(0,0.5)`"
   ]
  },
  {
   "cell_type": "code",
   "execution_count": 5,
   "id": "radio-program",
   "metadata": {},
   "outputs": [
    {
     "data": {
      "text/plain": [
       "Text(0, 0.5, 'yoyo pos (m)')"
      ]
     },
     "execution_count": 5,
     "metadata": {},
     "output_type": "execute_result"
    },
    {
     "data": {
      "image/png": "[encoded data removed]",
      "text/plain": [
       "<Figure size 432x288 with 1 Axes>"
      ]
     },
     "metadata": {
      "filenames": {
       "image/png": "/home/ryan/Documents/UConn/CE2120/dynamics_textbook/dynamics/_build/jupyter_execute/module_04/yoyo-despin_8_1.png"
      },
      "needs_background": "light"
     },
     "output_type": "display_data"
    }
   ],
   "source": [
    "t=np.linspace(0,0.5)\n",
    "r=odeint(yoyo_ode,[0.1,0],t)\n",
    "\n",
    "plt.plot(t,r[:,0])\n",
    "plt.xlabel('time (s)')\n",
    "plt.ylabel('yoyo pos (m)')"
   ]
  },
  {
   "cell_type": "markdown",
   "id": "angry-bankruptcy",
   "metadata": {},
   "source": [
    "# To save to file from python output\n",
    "\n",
    "Have to join the time, $r$, and $\\dot{r}$ into an array then save to a file:"
   ]
  },
  {
   "cell_type": "code",
   "execution_count": 6,
   "id": "appropriate-insider",
   "metadata": {},
   "outputs": [],
   "source": [
    "np.savetxt('t_r_rdot.csv',np.array([t,r[:,0],r[:,1]]).T,delimiter=',')"
   ]
  },
  {
   "cell_type": "markdown",
   "id": "grand-tennis",
   "metadata": {},
   "source": [
    "This line of code organizes a comma-separated-value file into the file t_r_rdot.csv with no headers.\n",
    "\n",
    "|time (s)| r (m) | $\\dot{r}$ (m/s)|\n",
    "|---|---|---|\n",
    "|0| 0.1| 0 |\n",
    "|...|...|...|"
   ]
  }
 ],
 "metadata": {
  "jupytext": {
   "text_representation": {
    "extension": ".md",
    "format_name": "myst",
    "format_version": 0.12,
    "jupytext_version": "1.6.0"
   }
  },
  "kernelspec": {
   "display_name": "Python 3",
   "language": "python",
   "name": "python3"
  },
  "language_info": {
   "codemirror_mode": {
    "name": "ipython",
    "version": 3
   },
   "file_extension": ".py",
   "mimetype": "text/x-python",
   "name": "python",
   "nbconvert_exporter": "python",
   "pygments_lexer": "ipython3",
   "version": "3.8.3"
  },
  "source_map": [
   14,
   18,
   26,
   30,
   44,
   58,
   67,
   69,
   81,
   88,
   94,
   96
  ]
 },
 "nbformat": 4,
 "nbformat_minor": 5
}