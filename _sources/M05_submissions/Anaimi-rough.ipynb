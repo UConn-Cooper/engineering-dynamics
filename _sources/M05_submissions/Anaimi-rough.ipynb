{
 "cells": [
  {
   "cell_type": "code",
   "execution_count": 9,
   "id": "dae550e3",
   "metadata": {},
   "outputs": [
    {
     "data": {
      "text/html": [
       "\n",
       "        <iframe\n",
       "            width=\"600\"\n",
       "            height=\"1500\"\n",
       "            src=\"https://github.com/cooperrc/engineering-dynamics/blob/cb003d9645570ea313db598ddd5c75f6b95891ed/M05_submissions/Alnaimi-rough-draft-of-Module-5-project.pdf?embed=True\"\n",
       "            frameborder=\"0\"\n",
       "            allowfullscreen\n",
       "        ></iframe>\n",
       "        "
      ],
      "text/plain": [
       "<IPython.lib.display.IFrame at 0x7f318622fc70>"
      ]
     },
     "execution_count": 9,
     "metadata": {},
     "output_type": "execute_result"
    }
   ],
   "source": [
    "from IPython.display import IFrame\n",
    "IFrame(\"https://github.com/cooperrc/engineering-dynamics/blob/cb003d9645570ea313db598ddd5c75f6b95891ed/M05_submissions/Alnaimi-rough-draft-of-Module-5-project.pdf?embed=True\", width=600, height=1500)"
   ]
  },
  {
   "cell_type": "code",
   "execution_count": null,
   "id": "02c05b5b",
   "metadata": {},
   "outputs": [],
   "source": []
  }
 ],
 "metadata": {
  "kernelspec": {
   "display_name": "Python 3",
   "language": "python",
   "name": "python3"
  },
  "language_info": {
   "codemirror_mode": {
    "name": "ipython",
    "version": 3
   },
   "file_extension": ".py",
   "mimetype": "text/x-python",
   "name": "python",
   "nbconvert_exporter": "python",
   "pygments_lexer": "ipython3",
   "version": "3.9.4"
  }
 },
 "nbformat": 4,
 "nbformat_minor": 5
}
