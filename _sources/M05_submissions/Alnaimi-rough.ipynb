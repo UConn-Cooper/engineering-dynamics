{
 "cells": [
  {
   "cell_type": "markdown",
   "id": "a8184cb2",
   "metadata": {},
   "source": [
    "# Project proposal - car accident impulse/momentum\n",
    "\n",
    "[car accident pdf](https://github.com/cooperrc/engineering-dynamics/blob/master/M05_submissions/Alnaimi-rough-draft-of-Module-5-project.pdf)"
   ]
  }
 ],
 "metadata": {
  "kernelspec": {
   "display_name": "Python 3",
   "language": "python",
   "name": "python3"
  },
  "language_info": {
   "codemirror_mode": {
    "name": "ipython",
    "version": 3
   },
   "file_extension": ".py",
   "mimetype": "text/x-python",
   "name": "python",
   "nbconvert_exporter": "python",
   "pygments_lexer": "ipython3",
   "version": "3.9.4"
  }
 },
 "nbformat": 4,
 "nbformat_minor": 5
}
