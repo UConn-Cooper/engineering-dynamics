{
 "cells": [
  {
   "cell_type": "code",
   "execution_count": 17,
   "metadata": {
    "tags": [
     "hide-cell"
    ]
   },
   "outputs": [],
   "source": [
    "import numpy as np\n",
    "import matplotlib.pyplot as plt\n",
    "plt.style.use('fivethirtyeight')"
   ]
  },
  {
   "cell_type": "markdown",
   "metadata": {},
   "source": [
    "# Mechanical advantage\n",
    "\n",
    "In the diagram below, there is a 50-N force, $F$, applied downwards on a\n",
    "constrained linkage system. There is a restoring force, $R$, that\n",
    "maintains a slow change in the angle of the mechanism, $\\theta$, as it\n",
    "changes from $89^o$ to $-89^o$. Your\n",
    "goal is to determine the necessary restoring force $R$ as a\n",
    "function of angle $\\theta$. \n",
    "\n",
    "![an image in markdown](./images/two-bar.svg)\n"
   ]
  },
  {
   "cell_type": "code",
   "execution_count": 2,
   "metadata": {
    "tags": [
     "hide-input"
    ]
   },
   "outputs": [
    {
     "data": {
      "image/svg+xml": [
       "<svg xmlns:dc=\"http://purl.org/dc/elements/1.1/\" xmlns:cc=\"http://creativecommons.org/ns#\" xmlns:rdf=\"http://www.w3.org/1999/02/22-rdf-syntax-ns#\" xmlns:svg=\"http://www.w3.org/2000/svg\" xmlns=\"http://www.w3.org/2000/svg\" xmlns:sodipodi=\"http://sodipodi.sourceforge.net/DTD/sodipodi-0.dtd\" xmlns:inkscape=\"http://www.inkscape.org/namespaces/inkscape\" width=\"4in\" height=\"3in\" viewBox=\"0 0 101.6 76.200002\" version=\"1.1\" id=\"svg1288\" inkscape:version=\"1.0.1 (3bc2e813f5, 2020-09-07)\" sodipodi:docname=\"position_angle.svg\">\n",
       "  <defs id=\"defs1282\">\n",
       "    <marker style=\"overflow:visible;\" id=\"marker2611\" refX=\"0.0\" refY=\"0.0\" orient=\"auto\" inkscape:stockid=\"Arrow1Mend\" inkscape:isstock=\"true\">\n",
       "      <path transform=\"scale(0.4) rotate(180) translate(10,0)\" style=\"fill-rule:evenodd;stroke:#000000;stroke-width:1pt;stroke-opacity:1;fill:#000000;fill-opacity:1\" d=\"M 0.0,0.0 L 5.0,-5.0 L -12.5,0.0 L 5.0,5.0 L 0.0,0.0 z \" id=\"path2609\"/>\n",
       "    </marker>\n",
       "    <marker style=\"overflow:visible;\" id=\"Arrow1Mend\" refX=\"0.0\" refY=\"0.0\" orient=\"auto\" inkscape:stockid=\"Arrow1Mend\" inkscape:isstock=\"true\" inkscape:collect=\"always\">\n",
       "      <path transform=\"scale(0.4) rotate(180) translate(10,0)\" style=\"fill-rule:evenodd;stroke:#000000;stroke-width:1pt;stroke-opacity:1;fill:#000000;fill-opacity:1\" d=\"M 0.0,0.0 L 5.0,-5.0 L -12.5,0.0 L 5.0,5.0 L 0.0,0.0 z \" id=\"path1864\"/>\n",
       "    </marker>\n",
       "    <marker style=\"overflow:visible\" id=\"Arrow1Mstart\" refX=\"0.0\" refY=\"0.0\" orient=\"auto\" inkscape:stockid=\"Arrow1Mstart\" inkscape:isstock=\"true\">\n",
       "      <path transform=\"scale(0.4) translate(10,0)\" style=\"fill-rule:evenodd;stroke:#000000;stroke-width:1pt;stroke-opacity:1;fill:#000000;fill-opacity:1\" d=\"M 0.0,0.0 L 5.0,-5.0 L -12.5,0.0 L 5.0,5.0 L 0.0,0.0 z \" id=\"path1861\"/>\n",
       "    </marker>\n",
       "    <marker style=\"overflow:visible\" id=\"Arrow1Mstart-7\" refX=\"0\" refY=\"0\" orient=\"auto\" inkscape:stockid=\"Arrow1Mstart\" inkscape:isstock=\"true\">\n",
       "      <path transform=\"matrix(0.4,0,0,0.4,4,0)\" style=\"fill:#000000;fill-opacity:1;fill-rule:evenodd;stroke:#000000;stroke-width:1pt;stroke-opacity:1\" d=\"M 0,0 5,-5 -12.5,0 5,5 Z\" id=\"path1861-6\"/>\n",
       "    </marker>\n",
       "    <marker style=\"overflow:visible\" id=\"Arrow1Mend-5\" refX=\"0\" refY=\"0\" orient=\"auto\" inkscape:stockid=\"Arrow1Mend\" inkscape:isstock=\"true\">\n",
       "      <path transform=\"matrix(-0.4,0,0,-0.4,-4,0)\" style=\"fill:#000000;fill-opacity:1;fill-rule:evenodd;stroke:#000000;stroke-width:1pt;stroke-opacity:1\" d=\"M 0,0 5,-5 -12.5,0 5,5 Z\" id=\"path1864-6\"/>\n",
       "    </marker>\n",
       "    <marker style=\"overflow:visible\" id=\"Arrow1Mstart-74\" refX=\"0\" refY=\"0\" orient=\"auto\" inkscape:stockid=\"Arrow1Mstart\" inkscape:isstock=\"true\">\n",
       "      <path transform=\"matrix(0.4,0,0,0.4,4,0)\" style=\"fill:#000000;fill-opacity:1;fill-rule:evenodd;stroke:#000000;stroke-width:1pt;stroke-opacity:1\" d=\"M 0,0 5,-5 -12.5,0 5,5 Z\" id=\"path1861-5\"/>\n",
       "    </marker>\n",
       "    <marker style=\"overflow:visible\" id=\"Arrow1Mend-2\" refX=\"0\" refY=\"0\" orient=\"auto\" inkscape:stockid=\"Arrow1Mend\" inkscape:isstock=\"true\">\n",
       "      <path transform=\"matrix(-0.4,0,0,-0.4,-4,0)\" style=\"fill:#000000;fill-opacity:1;fill-rule:evenodd;stroke:#000000;stroke-width:1pt;stroke-opacity:1\" d=\"M 0,0 5,-5 -12.5,0 5,5 Z\" id=\"path1864-5\"/>\n",
       "    </marker>\n",
       "    <marker style=\"overflow:visible\" id=\"Arrow1Mstart-7-4\" refX=\"0\" refY=\"0\" orient=\"auto\" inkscape:stockid=\"Arrow1Mstart\" inkscape:isstock=\"true\">\n",
       "      <path transform=\"matrix(0.4,0,0,0.4,4,0)\" style=\"fill:#000000;fill-opacity:1;fill-rule:evenodd;stroke:#000000;stroke-width:1pt;stroke-opacity:1\" d=\"M 0,0 5,-5 -12.5,0 5,5 Z\" id=\"path1861-6-4\"/>\n",
       "    </marker>\n",
       "    <marker style=\"overflow:visible\" id=\"marker2611-3\" refX=\"0\" refY=\"0\" orient=\"auto\" inkscape:stockid=\"Arrow1Mend\" inkscape:isstock=\"true\">\n",
       "      <path transform=\"matrix(-0.4,0,0,-0.4,-4,0)\" style=\"fill:#000000;fill-opacity:1;fill-rule:evenodd;stroke:#000000;stroke-width:1pt;stroke-opacity:1\" d=\"M 0,0 5,-5 -12.5,0 5,5 Z\" id=\"path2609-0\"/>\n",
       "    </marker>\n",
       "    <marker style=\"overflow:visible\" id=\"Arrow1Mstart-7-8\" refX=\"0\" refY=\"0\" orient=\"auto\" inkscape:stockid=\"Arrow1Mstart\" inkscape:isstock=\"true\">\n",
       "      <path transform=\"matrix(0.4,0,0,0.4,4,0)\" style=\"fill:#000000;fill-opacity:1;fill-rule:evenodd;stroke:#000000;stroke-width:1pt;stroke-opacity:1\" d=\"M 0,0 5,-5 -12.5,0 5,5 Z\" id=\"path1861-6-6\"/>\n",
       "    </marker>\n",
       "    <marker style=\"overflow:visible\" id=\"marker2611-8\" refX=\"0\" refY=\"0\" orient=\"auto\" inkscape:stockid=\"Arrow1Mend\" inkscape:isstock=\"true\">\n",
       "      <path transform=\"matrix(-0.4,0,0,-0.4,-4,0)\" style=\"fill:#000000;fill-opacity:1;fill-rule:evenodd;stroke:#000000;stroke-width:1pt;stroke-opacity:1\" d=\"M 0,0 5,-5 -12.5,0 5,5 Z\" id=\"path2609-8\"/>\n",
       "    </marker>\n",
       "    <marker style=\"overflow:visible\" id=\"Arrow1Mstart-7-4-4\" refX=\"0\" refY=\"0\" orient=\"auto\" inkscape:stockid=\"Arrow1Mstart\" inkscape:isstock=\"true\">\n",
       "      <path transform=\"matrix(0.4,0,0,0.4,4,0)\" style=\"fill:#000000;fill-opacity:1;fill-rule:evenodd;stroke:#000000;stroke-width:1pt;stroke-opacity:1\" d=\"M 0,0 5,-5 -12.5,0 5,5 Z\" id=\"path1861-6-4-3\"/>\n",
       "    </marker>\n",
       "    <marker style=\"overflow:visible\" id=\"marker2611-3-1\" refX=\"0\" refY=\"0\" orient=\"auto\" inkscape:stockid=\"Arrow1Mend\" inkscape:isstock=\"true\">\n",
       "      <path transform=\"matrix(-0.4,0,0,-0.4,-4,0)\" style=\"fill:#000000;fill-opacity:1;fill-rule:evenodd;stroke:#000000;stroke-width:1pt;stroke-opacity:1\" d=\"M 0,0 5,-5 -12.5,0 5,5 Z\" id=\"path2609-0-4\"/>\n",
       "    </marker>\n",
       "  </defs>\n",
       "  <sodipodi:namedview id=\"base\" pagecolor=\"#ffffff\" bordercolor=\"#666666\" borderopacity=\"1.0\" inkscape:pageopacity=\"0.0\" inkscape:pageshadow=\"2\" inkscape:zoom=\"1.3258252\" inkscape:cx=\"188.09286\" inkscape:cy=\"97.046933\" inkscape:document-units=\"mm\" inkscape:current-layer=\"layer1\" inkscape:document-rotation=\"0\" showgrid=\"false\" units=\"in\" inkscape:window-width=\"1343\" inkscape:window-height=\"846\" inkscape:window-x=\"0\" inkscape:window-y=\"38\" inkscape:window-maximized=\"0\"/>\n",
       "  <metadata id=\"metadata1285\">\n",
       "    <rdf:RDF>\n",
       "      <cc:Work rdf:about=\"\">\n",
       "        <dc:format>image/svg+xml</dc:format>\n",
       "        <dc:type rdf:resource=\"http://purl.org/dc/dcmitype/StillImage\"/>\n",
       "        <dc:title/>\n",
       "      </cc:Work>\n",
       "    </rdf:RDF>\n",
       "  </metadata>\n",
       "  <g inkscape:label=\"Layer 1\" inkscape:groupmode=\"layer\" id=\"layer1\">\n",
       "    <rect style=\"fill:#ffffff;fill-opacity:1;stroke:#000000;stroke-width:0.477077;stroke-miterlimit:4;stroke-dasharray:none;stroke-opacity:1\" id=\"rect1851\" width=\"28.643866\" height=\"20.155411\" x=\"9.7402191\" y=\"20.082235\" ry=\"1.3087782\"/>\n",
       "    <path style=\"fill:none;stroke:#000000;stroke-width:0.477077;stroke-linecap:butt;stroke-linejoin:miter;stroke-miterlimit:4;stroke-dasharray:none;stroke-opacity:1;marker-start:url(#Arrow1Mstart);marker-end:url(#Arrow1Mend)\" d=\"M 1.4405587,16.343036 V 54.854794 H 44.602212\" id=\"path1853\"/>\n",
       "    <rect style=\"fill:#ffffff;fill-opacity:1;stroke:#000000;stroke-width:0.477078;stroke-miterlimit:4;stroke-dasharray:none;stroke-opacity:1\" id=\"rect1851-4\" width=\"28.643866\" height=\"20.155411\" x=\"17.867367\" y=\"68.864899\" ry=\"1.3087782\" transform=\"rotate(-47.098485)\"/>\n",
       "    <path style=\"fill:none;stroke:#000000;stroke-width:0.477078;stroke-linecap:butt;stroke-linejoin:miter;stroke-miterlimit:4;stroke-dasharray:none;stroke-opacity:1;marker-start:url(#Arrow1Mstart-74);marker-end:url(#Arrow1Mend-2)\" d=\"M 57.118376,16.343033 V 54.854792 H 100.28001\" id=\"path1853-7\"/>\n",
       "    <path style=\"fill:#ffffff;fill-opacity:1;stroke:#000000;stroke-width:0.529167;stroke-miterlimit:4;stroke-dasharray:none;stroke-opacity:1\" id=\"path2593\" sodipodi:type=\"arc\" sodipodi:cx=\"23.820122\" sodipodi:cy=\"30.513292\" sodipodi:rx=\"0.77875519\" sodipodi:ry=\"0.77875519\" sodipodi:start=\"0\" sodipodi:end=\"6.2813004\" sodipodi:open=\"true\" sodipodi:arc-type=\"arc\" d=\"m 24.598877,30.513292 a 0.77875519,0.77875519 0 0 1 -0.778388,0.778755 0.77875519,0.77875519 0 0 1 -0.779122,-0.778021 0.77875519,0.77875519 0 0 1 0.777654,-0.779488 0.77875519,0.77875519 0 0 1 0.779855,0.777286\"/>\n",
       "    <path style=\"fill:none;stroke:#000000;stroke-width:0.529167;stroke-linecap:butt;stroke-linejoin:miter;stroke-miterlimit:4;stroke-dasharray:none;stroke-opacity:1;marker-start:url(#Arrow1Mstart-7);marker-end:url(#marker2611)\" d=\"M 23.822764,32.099325 V 53.900782\" id=\"path2595\" sodipodi:nodetypes=\"cc\"/>\n",
       "    <path style=\"fill:none;stroke:#000000;stroke-width:0.529167;stroke-linecap:butt;stroke-linejoin:miter;stroke-miterlimit:4;stroke-dasharray:none;stroke-opacity:1;marker-start:url(#Arrow1Mstart-7-4);marker-end:url(#marker2611-3)\" d=\"M 22.054433,30.544989 H 2.448149\" id=\"path2595-7\" sodipodi:nodetypes=\"cc\"/>\n",
       "    <text xml:space=\"preserve\" style=\"font-style:normal;font-weight:normal;font-size:10.5833px;line-height:1.25;font-family:sans-serif;fill:#000000;fill-opacity:1;stroke:none;stroke-width:0.264583\" x=\"26.320551\" y=\"48.12138\" id=\"text2852\"><tspan sodipodi:role=\"line\" id=\"tspan2850\" x=\"26.320551\" y=\"48.12138\" style=\"stroke-width:0.264583\">y</tspan></text>\n",
       "    <text xml:space=\"preserve\" style=\"font-style:normal;font-weight:normal;font-size:10.5833px;line-height:1.25;font-family:sans-serif;fill:#000000;fill-opacity:1;stroke:none;stroke-width:0.264583\" x=\"4.1608448\" y=\"29.279934\" id=\"text2856\"><tspan sodipodi:role=\"line\" id=\"tspan2854\" x=\"4.1608448\" y=\"29.279934\" style=\"stroke-width:0.264583\">x</tspan></text>\n",
       "    <path style=\"fill:#ffffff;fill-opacity:1;stroke:#000000;stroke-width:0.529167;stroke-miterlimit:4;stroke-dasharray:none;stroke-opacity:1\" id=\"path2593-9\" sodipodi:type=\"arc\" sodipodi:cx=\"79.650391\" sodipodi:cy=\"30.558138\" sodipodi:rx=\"0.77875519\" sodipodi:ry=\"0.77875519\" sodipodi:start=\"0\" sodipodi:end=\"6.2813004\" sodipodi:open=\"true\" sodipodi:arc-type=\"arc\" d=\"m 80.429146,30.558138 a 0.77875519,0.77875519 0 0 1 -0.778388,0.778755 0.77875519,0.77875519 0 0 1 -0.779122,-0.778021 0.77875519,0.77875519 0 0 1 0.777654,-0.779489 0.77875519,0.77875519 0 0 1 0.779854,0.777287\"/>\n",
       "    <path style=\"fill:none;stroke:#000000;stroke-width:0.529167;stroke-linecap:butt;stroke-linejoin:miter;stroke-miterlimit:4;stroke-dasharray:none;stroke-opacity:1;marker-start:url(#Arrow1Mstart-7-8);marker-end:url(#marker2611-8)\" d=\"M 79.653039,32.14417 V 53.945628\" id=\"path2595-2\" sodipodi:nodetypes=\"cc\"/>\n",
       "    <path style=\"fill:none;stroke:#000000;stroke-width:0.529167;stroke-linecap:butt;stroke-linejoin:miter;stroke-miterlimit:4;stroke-dasharray:none;stroke-opacity:1;marker-start:url(#Arrow1Mstart-7-4-4);marker-end:url(#marker2611-3-1)\" d=\"M 77.884708,30.589834 H 58.278424\" id=\"path2595-7-0\" sodipodi:nodetypes=\"cc\"/>\n",
       "    <text xml:space=\"preserve\" style=\"font-style:normal;font-weight:normal;font-size:10.5833px;line-height:1.25;font-family:sans-serif;fill:#000000;fill-opacity:1;stroke:none;stroke-width:0.264583\" x=\"82.150826\" y=\"48.166229\" id=\"text2852-6\"><tspan sodipodi:role=\"line\" id=\"tspan2850-8\" x=\"82.150826\" y=\"48.166229\" style=\"stroke-width:0.264583\">y</tspan></text>\n",
       "    <text xml:space=\"preserve\" style=\"font-style:normal;font-weight:normal;font-size:10.5833px;line-height:1.25;font-family:sans-serif;fill:#000000;fill-opacity:1;stroke:none;stroke-width:0.264583\" x=\"59.991112\" y=\"29.32478\" id=\"text2856-9\"><tspan sodipodi:role=\"line\" id=\"tspan2854-2\" x=\"59.991112\" y=\"29.32478\" style=\"stroke-width:0.264583\">x</tspan></text>\n",
       "    <text xml:space=\"preserve\" style=\"font-style:normal;font-weight:normal;font-size:10.5833px;line-height:1.25;font-family:sans-serif;fill:#000000;fill-opacity:1;stroke:none;stroke-width:0.264583\" x=\"47.692436\" y=\"35.624062\" id=\"text3215\"><tspan sodipodi:role=\"line\" id=\"tspan3213\" x=\"47.692436\" y=\"35.624062\" style=\"stroke-width:0.264583\">≠</tspan></text>\n",
       "  </g>\n",
       "</svg>"
      ],
      "text/plain": [
       "<IPython.core.display.SVG object>"
      ]
     },
     "execution_count": 2,
     "metadata": {},
     "output_type": "execute_result"
    }
   ],
   "source": [
    "from IPython.core.display import SVG\n",
    "SVG(filename='./images/position_angle.svg')"
   ]
  },
  {
   "cell_type": "markdown",
   "metadata": {},
   "source": [
    "## Kinematics - geometry of motion\n",
    "\n",
    "This system has two rigid bodies connected at point $A$ by a pin and the\n",
    "whole system is pinned to the ground at $O$. Point $B$ slides\n",
    "along a horizontal surface. The total degrees of freedom are\n",
    "\n",
    "3 (link 1) + 3 (link 2) - 2 constraints ($O$) - 2 constraints ($A$) - 1\n",
    "constraint ($B$) - 1 constraint ($\\theta$-fixed) = __0 DOF__\n",
    "\n",
    "For a given angle $\\theta$, there can only be one configuration in the\n",
    "system. Create the constraint equations using the relative position of\n",
    "point $A$ as such\n",
    "\n",
    "$\\mathbf{r}_A = \\mathbf{r}_B + \\mathbf{r}_{A/B}$\n",
    "\n",
    "where \n",
    "\n",
    "$\\mathbf{r}_A = L(\\cos\\theta \\hat{i}+ \\sin\\theta \\hat{j})$\n",
    "\n",
    "$\\mathbf{r}_B = d\\hat{i}$\n",
    "\n",
    "$\\mathbf{r}_{A/B} = L(-\\cos\\theta \\hat{i} + \\sin\\theta \\hat{j})$\n",
    "\n",
    "solving for the $\\hat{i}-$ and $\\hat{j}-$components creates two\n",
    "equations that describe the state of the system\n",
    "\n",
    "* $\\theta = \\theta$ which states because we have an isosceles triangle,\n",
    "two angles have to be equal\n",
    "* $d = 2 L \\cos\\theta$ so $\\mathbf{r}_{B} = 2L \\cos\\theta \\hat{i}$"
   ]
  },
  {
   "cell_type": "code",
   "execution_count": 11,
   "metadata": {
    "lines_to_next_cell": 0,
    "tags": [
     "hide-input"
    ]
   },
   "outputs": [
    {
     "data": {
      "image/png": "[encoded data removed]",
      "text/plain": [
       "<Figure size 432x288 with 1 Axes>"
      ]
     },
     "metadata": {},
     "output_type": "display_data"
    }
   ],
   "source": [
    "theta = np.linspace(89,-89)*np.pi/180\n",
    "d = 2*1*np.cos(theta)\n",
    "plt.plot(theta*180/np.pi, d)\n",
    "plt.xticks(np.arange(-90,91,30))\n",
    "plt.xlabel(r'$\\theta$ (deg)')\n",
    "plt.xlim(90,-90)\n",
    "plt.ylabel('d (m)');"
   ]
  },
  {
   "cell_type": "markdown",
   "metadata": {},
   "source": [
    "## Kinetics - applied forces and constraint forces\n",
    "\n",
    "The applied force, $F=50~N$ is constant, but $R$ is dependent upon the\n",
    "geometry of the system. You solved for the kinematics in the first part,\n",
    "here you can use the Newton-Euler equations to solve for $R$ given $\\theta$ and\n",
    "$F$. Separate the system into the left and right links, "
   ]
  },
  {
   "cell_type": "code",
   "execution_count": 4,
   "metadata": {
    "lines_to_next_cell": 0,
    "tags": [
     "hide-input"
    ]
   },
   "outputs": [
    {
     "data": {
      "image/svg+xml": [
       "<svg xmlns:dc=\"http://purl.org/dc/elements/1.1/\" xmlns:cc=\"http://creativecommons.org/ns#\" xmlns:rdf=\"http://www.w3.org/1999/02/22-rdf-syntax-ns#\" xmlns:svg=\"http://www.w3.org/2000/svg\" xmlns=\"http://www.w3.org/2000/svg\" xmlns:sodipodi=\"http://sodipodi.sourceforge.net/DTD/sodipodi-0.dtd\" xmlns:inkscape=\"http://www.inkscape.org/namespaces/inkscape\" width=\"4in\" height=\"3in\" viewBox=\"0 0 101.6 76.200002\" version=\"1.1\" id=\"svg1288\" inkscape:version=\"1.0.1 (3bc2e813f5, 2020-09-07)\" sodipodi:docname=\"position_angle.svg\">\n",
       "  <defs id=\"defs1282\">\n",
       "    <marker style=\"overflow:visible;\" id=\"marker2611\" refX=\"0.0\" refY=\"0.0\" orient=\"auto\" inkscape:stockid=\"Arrow1Mend\" inkscape:isstock=\"true\">\n",
       "      <path transform=\"scale(0.4) rotate(180) translate(10,0)\" style=\"fill-rule:evenodd;stroke:#000000;stroke-width:1pt;stroke-opacity:1;fill:#000000;fill-opacity:1\" d=\"M 0.0,0.0 L 5.0,-5.0 L -12.5,0.0 L 5.0,5.0 L 0.0,0.0 z \" id=\"path2609\"/>\n",
       "    </marker>\n",
       "    <marker style=\"overflow:visible;\" id=\"Arrow1Mend\" refX=\"0.0\" refY=\"0.0\" orient=\"auto\" inkscape:stockid=\"Arrow1Mend\" inkscape:isstock=\"true\" inkscape:collect=\"always\">\n",
       "      <path transform=\"scale(0.4) rotate(180) translate(10,0)\" style=\"fill-rule:evenodd;stroke:#000000;stroke-width:1pt;stroke-opacity:1;fill:#000000;fill-opacity:1\" d=\"M 0.0,0.0 L 5.0,-5.0 L -12.5,0.0 L 5.0,5.0 L 0.0,0.0 z \" id=\"path1864\"/>\n",
       "    </marker>\n",
       "    <marker style=\"overflow:visible\" id=\"Arrow1Mstart\" refX=\"0.0\" refY=\"0.0\" orient=\"auto\" inkscape:stockid=\"Arrow1Mstart\" inkscape:isstock=\"true\">\n",
       "      <path transform=\"scale(0.4) translate(10,0)\" style=\"fill-rule:evenodd;stroke:#000000;stroke-width:1pt;stroke-opacity:1;fill:#000000;fill-opacity:1\" d=\"M 0.0,0.0 L 5.0,-5.0 L -12.5,0.0 L 5.0,5.0 L 0.0,0.0 z \" id=\"path1861\"/>\n",
       "    </marker>\n",
       "    <marker style=\"overflow:visible\" id=\"Arrow1Mstart-7\" refX=\"0\" refY=\"0\" orient=\"auto\" inkscape:stockid=\"Arrow1Mstart\" inkscape:isstock=\"true\">\n",
       "      <path transform=\"matrix(0.4,0,0,0.4,4,0)\" style=\"fill:#000000;fill-opacity:1;fill-rule:evenodd;stroke:#000000;stroke-width:1pt;stroke-opacity:1\" d=\"M 0,0 5,-5 -12.5,0 5,5 Z\" id=\"path1861-6\"/>\n",
       "    </marker>\n",
       "    <marker style=\"overflow:visible\" id=\"Arrow1Mend-5\" refX=\"0\" refY=\"0\" orient=\"auto\" inkscape:stockid=\"Arrow1Mend\" inkscape:isstock=\"true\">\n",
       "      <path transform=\"matrix(-0.4,0,0,-0.4,-4,0)\" style=\"fill:#000000;fill-opacity:1;fill-rule:evenodd;stroke:#000000;stroke-width:1pt;stroke-opacity:1\" d=\"M 0,0 5,-5 -12.5,0 5,5 Z\" id=\"path1864-6\"/>\n",
       "    </marker>\n",
       "    <marker style=\"overflow:visible\" id=\"Arrow1Mstart-74\" refX=\"0\" refY=\"0\" orient=\"auto\" inkscape:stockid=\"Arrow1Mstart\" inkscape:isstock=\"true\">\n",
       "      <path transform=\"matrix(0.4,0,0,0.4,4,0)\" style=\"fill:#000000;fill-opacity:1;fill-rule:evenodd;stroke:#000000;stroke-width:1pt;stroke-opacity:1\" d=\"M 0,0 5,-5 -12.5,0 5,5 Z\" id=\"path1861-5\"/>\n",
       "    </marker>\n",
       "    <marker style=\"overflow:visible\" id=\"Arrow1Mend-2\" refX=\"0\" refY=\"0\" orient=\"auto\" inkscape:stockid=\"Arrow1Mend\" inkscape:isstock=\"true\">\n",
       "      <path transform=\"matrix(-0.4,0,0,-0.4,-4,0)\" style=\"fill:#000000;fill-opacity:1;fill-rule:evenodd;stroke:#000000;stroke-width:1pt;stroke-opacity:1\" d=\"M 0,0 5,-5 -12.5,0 5,5 Z\" id=\"path1864-5\"/>\n",
       "    </marker>\n",
       "    <marker style=\"overflow:visible\" id=\"Arrow1Mstart-7-4\" refX=\"0\" refY=\"0\" orient=\"auto\" inkscape:stockid=\"Arrow1Mstart\" inkscape:isstock=\"true\">\n",
       "      <path transform=\"matrix(0.4,0,0,0.4,4,0)\" style=\"fill:#000000;fill-opacity:1;fill-rule:evenodd;stroke:#000000;stroke-width:1pt;stroke-opacity:1\" d=\"M 0,0 5,-5 -12.5,0 5,5 Z\" id=\"path1861-6-4\"/>\n",
       "    </marker>\n",
       "    <marker style=\"overflow:visible\" id=\"marker2611-3\" refX=\"0\" refY=\"0\" orient=\"auto\" inkscape:stockid=\"Arrow1Mend\" inkscape:isstock=\"true\">\n",
       "      <path transform=\"matrix(-0.4,0,0,-0.4,-4,0)\" style=\"fill:#000000;fill-opacity:1;fill-rule:evenodd;stroke:#000000;stroke-width:1pt;stroke-opacity:1\" d=\"M 0,0 5,-5 -12.5,0 5,5 Z\" id=\"path2609-0\"/>\n",
       "    </marker>\n",
       "    <marker style=\"overflow:visible\" id=\"Arrow1Mstart-7-8\" refX=\"0\" refY=\"0\" orient=\"auto\" inkscape:stockid=\"Arrow1Mstart\" inkscape:isstock=\"true\">\n",
       "      <path transform=\"matrix(0.4,0,0,0.4,4,0)\" style=\"fill:#000000;fill-opacity:1;fill-rule:evenodd;stroke:#000000;stroke-width:1pt;stroke-opacity:1\" d=\"M 0,0 5,-5 -12.5,0 5,5 Z\" id=\"path1861-6-6\"/>\n",
       "    </marker>\n",
       "    <marker style=\"overflow:visible\" id=\"marker2611-8\" refX=\"0\" refY=\"0\" orient=\"auto\" inkscape:stockid=\"Arrow1Mend\" inkscape:isstock=\"true\">\n",
       "      <path transform=\"matrix(-0.4,0,0,-0.4,-4,0)\" style=\"fill:#000000;fill-opacity:1;fill-rule:evenodd;stroke:#000000;stroke-width:1pt;stroke-opacity:1\" d=\"M 0,0 5,-5 -12.5,0 5,5 Z\" id=\"path2609-8\"/>\n",
       "    </marker>\n",
       "    <marker style=\"overflow:visible\" id=\"Arrow1Mstart-7-4-4\" refX=\"0\" refY=\"0\" orient=\"auto\" inkscape:stockid=\"Arrow1Mstart\" inkscape:isstock=\"true\">\n",
       "      <path transform=\"matrix(0.4,0,0,0.4,4,0)\" style=\"fill:#000000;fill-opacity:1;fill-rule:evenodd;stroke:#000000;stroke-width:1pt;stroke-opacity:1\" d=\"M 0,0 5,-5 -12.5,0 5,5 Z\" id=\"path1861-6-4-3\"/>\n",
       "    </marker>\n",
       "    <marker style=\"overflow:visible\" id=\"marker2611-3-1\" refX=\"0\" refY=\"0\" orient=\"auto\" inkscape:stockid=\"Arrow1Mend\" inkscape:isstock=\"true\">\n",
       "      <path transform=\"matrix(-0.4,0,0,-0.4,-4,0)\" style=\"fill:#000000;fill-opacity:1;fill-rule:evenodd;stroke:#000000;stroke-width:1pt;stroke-opacity:1\" d=\"M 0,0 5,-5 -12.5,0 5,5 Z\" id=\"path2609-0-4\"/>\n",
       "    </marker>\n",
       "  </defs>\n",
       "  <sodipodi:namedview id=\"base\" pagecolor=\"#ffffff\" bordercolor=\"#666666\" borderopacity=\"1.0\" inkscape:pageopacity=\"0.0\" inkscape:pageshadow=\"2\" inkscape:zoom=\"1.3258252\" inkscape:cx=\"188.09286\" inkscape:cy=\"97.046933\" inkscape:document-units=\"mm\" inkscape:current-layer=\"layer1\" inkscape:document-rotation=\"0\" showgrid=\"false\" units=\"in\" inkscape:window-width=\"1343\" inkscape:window-height=\"846\" inkscape:window-x=\"0\" inkscape:window-y=\"38\" inkscape:window-maximized=\"0\"/>\n",
       "  <metadata id=\"metadata1285\">\n",
       "    <rdf:RDF>\n",
       "      <cc:Work rdf:about=\"\">\n",
       "        <dc:format>image/svg+xml</dc:format>\n",
       "        <dc:type rdf:resource=\"http://purl.org/dc/dcmitype/StillImage\"/>\n",
       "        <dc:title/>\n",
       "      </cc:Work>\n",
       "    </rdf:RDF>\n",
       "  </metadata>\n",
       "  <g inkscape:label=\"Layer 1\" inkscape:groupmode=\"layer\" id=\"layer1\">\n",
       "    <rect style=\"fill:#ffffff;fill-opacity:1;stroke:#000000;stroke-width:0.477077;stroke-miterlimit:4;stroke-dasharray:none;stroke-opacity:1\" id=\"rect1851\" width=\"28.643866\" height=\"20.155411\" x=\"9.7402191\" y=\"20.082235\" ry=\"1.3087782\"/>\n",
       "    <path style=\"fill:none;stroke:#000000;stroke-width:0.477077;stroke-linecap:butt;stroke-linejoin:miter;stroke-miterlimit:4;stroke-dasharray:none;stroke-opacity:1;marker-start:url(#Arrow1Mstart);marker-end:url(#Arrow1Mend)\" d=\"M 1.4405587,16.343036 V 54.854794 H 44.602212\" id=\"path1853\"/>\n",
       "    <rect style=\"fill:#ffffff;fill-opacity:1;stroke:#000000;stroke-width:0.477078;stroke-miterlimit:4;stroke-dasharray:none;stroke-opacity:1\" id=\"rect1851-4\" width=\"28.643866\" height=\"20.155411\" x=\"17.867367\" y=\"68.864899\" ry=\"1.3087782\" transform=\"rotate(-47.098485)\"/>\n",
       "    <path style=\"fill:none;stroke:#000000;stroke-width:0.477078;stroke-linecap:butt;stroke-linejoin:miter;stroke-miterlimit:4;stroke-dasharray:none;stroke-opacity:1;marker-start:url(#Arrow1Mstart-74);marker-end:url(#Arrow1Mend-2)\" d=\"M 57.118376,16.343033 V 54.854792 H 100.28001\" id=\"path1853-7\"/>\n",
       "    <path style=\"fill:#ffffff;fill-opacity:1;stroke:#000000;stroke-width:0.529167;stroke-miterlimit:4;stroke-dasharray:none;stroke-opacity:1\" id=\"path2593\" sodipodi:type=\"arc\" sodipodi:cx=\"23.820122\" sodipodi:cy=\"30.513292\" sodipodi:rx=\"0.77875519\" sodipodi:ry=\"0.77875519\" sodipodi:start=\"0\" sodipodi:end=\"6.2813004\" sodipodi:open=\"true\" sodipodi:arc-type=\"arc\" d=\"m 24.598877,30.513292 a 0.77875519,0.77875519 0 0 1 -0.778388,0.778755 0.77875519,0.77875519 0 0 1 -0.779122,-0.778021 0.77875519,0.77875519 0 0 1 0.777654,-0.779488 0.77875519,0.77875519 0 0 1 0.779855,0.777286\"/>\n",
       "    <path style=\"fill:none;stroke:#000000;stroke-width:0.529167;stroke-linecap:butt;stroke-linejoin:miter;stroke-miterlimit:4;stroke-dasharray:none;stroke-opacity:1;marker-start:url(#Arrow1Mstart-7);marker-end:url(#marker2611)\" d=\"M 23.822764,32.099325 V 53.900782\" id=\"path2595\" sodipodi:nodetypes=\"cc\"/>\n",
       "    <path style=\"fill:none;stroke:#000000;stroke-width:0.529167;stroke-linecap:butt;stroke-linejoin:miter;stroke-miterlimit:4;stroke-dasharray:none;stroke-opacity:1;marker-start:url(#Arrow1Mstart-7-4);marker-end:url(#marker2611-3)\" d=\"M 22.054433,30.544989 H 2.448149\" id=\"path2595-7\" sodipodi:nodetypes=\"cc\"/>\n",
       "    <text xml:space=\"preserve\" style=\"font-style:normal;font-weight:normal;font-size:10.5833px;line-height:1.25;font-family:sans-serif;fill:#000000;fill-opacity:1;stroke:none;stroke-width:0.264583\" x=\"26.320551\" y=\"48.12138\" id=\"text2852\"><tspan sodipodi:role=\"line\" id=\"tspan2850\" x=\"26.320551\" y=\"48.12138\" style=\"stroke-width:0.264583\">y</tspan></text>\n",
       "    <text xml:space=\"preserve\" style=\"font-style:normal;font-weight:normal;font-size:10.5833px;line-height:1.25;font-family:sans-serif;fill:#000000;fill-opacity:1;stroke:none;stroke-width:0.264583\" x=\"4.1608448\" y=\"29.279934\" id=\"text2856\"><tspan sodipodi:role=\"line\" id=\"tspan2854\" x=\"4.1608448\" y=\"29.279934\" style=\"stroke-width:0.264583\">x</tspan></text>\n",
       "    <path style=\"fill:#ffffff;fill-opacity:1;stroke:#000000;stroke-width:0.529167;stroke-miterlimit:4;stroke-dasharray:none;stroke-opacity:1\" id=\"path2593-9\" sodipodi:type=\"arc\" sodipodi:cx=\"79.650391\" sodipodi:cy=\"30.558138\" sodipodi:rx=\"0.77875519\" sodipodi:ry=\"0.77875519\" sodipodi:start=\"0\" sodipodi:end=\"6.2813004\" sodipodi:open=\"true\" sodipodi:arc-type=\"arc\" d=\"m 80.429146,30.558138 a 0.77875519,0.77875519 0 0 1 -0.778388,0.778755 0.77875519,0.77875519 0 0 1 -0.779122,-0.778021 0.77875519,0.77875519 0 0 1 0.777654,-0.779489 0.77875519,0.77875519 0 0 1 0.779854,0.777287\"/>\n",
       "    <path style=\"fill:none;stroke:#000000;stroke-width:0.529167;stroke-linecap:butt;stroke-linejoin:miter;stroke-miterlimit:4;stroke-dasharray:none;stroke-opacity:1;marker-start:url(#Arrow1Mstart-7-8);marker-end:url(#marker2611-8)\" d=\"M 79.653039,32.14417 V 53.945628\" id=\"path2595-2\" sodipodi:nodetypes=\"cc\"/>\n",
       "    <path style=\"fill:none;stroke:#000000;stroke-width:0.529167;stroke-linecap:butt;stroke-linejoin:miter;stroke-miterlimit:4;stroke-dasharray:none;stroke-opacity:1;marker-start:url(#Arrow1Mstart-7-4-4);marker-end:url(#marker2611-3-1)\" d=\"M 77.884708,30.589834 H 58.278424\" id=\"path2595-7-0\" sodipodi:nodetypes=\"cc\"/>\n",
       "    <text xml:space=\"preserve\" style=\"font-style:normal;font-weight:normal;font-size:10.5833px;line-height:1.25;font-family:sans-serif;fill:#000000;fill-opacity:1;stroke:none;stroke-width:0.264583\" x=\"82.150826\" y=\"48.166229\" id=\"text2852-6\"><tspan sodipodi:role=\"line\" id=\"tspan2850-8\" x=\"82.150826\" y=\"48.166229\" style=\"stroke-width:0.264583\">y</tspan></text>\n",
       "    <text xml:space=\"preserve\" style=\"font-style:normal;font-weight:normal;font-size:10.5833px;line-height:1.25;font-family:sans-serif;fill:#000000;fill-opacity:1;stroke:none;stroke-width:0.264583\" x=\"59.991112\" y=\"29.32478\" id=\"text2856-9\"><tspan sodipodi:role=\"line\" id=\"tspan2854-2\" x=\"59.991112\" y=\"29.32478\" style=\"stroke-width:0.264583\">x</tspan></text>\n",
       "    <text xml:space=\"preserve\" style=\"font-style:normal;font-weight:normal;font-size:10.5833px;line-height:1.25;font-family:sans-serif;fill:#000000;fill-opacity:1;stroke:none;stroke-width:0.264583\" x=\"47.692436\" y=\"35.624062\" id=\"text3215\"><tspan sodipodi:role=\"line\" id=\"tspan3213\" x=\"47.692436\" y=\"35.624062\" style=\"stroke-width:0.264583\">≠</tspan></text>\n",
       "  </g>\n",
       "</svg>"
      ],
      "text/plain": [
       "<IPython.core.display.SVG object>"
      ]
     },
     "execution_count": 4,
     "metadata": {},
     "output_type": "execute_result"
    }
   ],
   "source": [
    "SVG(filename='./images/position_angle.svg')"
   ]
  },
  {
   "cell_type": "markdown",
   "metadata": {},
   "source": [
    "The Newton-Euler equations:\n",
    "\n",
    "* $\\mathbf{F} = m\\mathbf{a} = \\mathbf{0}$ links moving slowly\n",
    "* $M_G$ = I\\alpha = 0$ links rotating slowly"
   ]
  },
  {
   "cell_type": "markdown",
   "metadata": {},
   "source": [
    "Newton-Euler equations for the left bar:\n",
    "\n",
    "1. $\\mathbf{F}\\cdot \\hat{i} = N_{x1}+N_{x2} = 0$\n",
    "2. $\\mathbf{F}\\cdot \\hat{i} = N_{y1}+N_{y2} - F = 0$\n",
    "3. $M_O = l\\hat{b}_1 \\times (-F\\hat{j} + N_{x2}\\hat{i} + N_{y2}\\hat{j})\n",
    "= 0$\n",
    "\n",
    "Newton-Euler equations for the right bar:\n",
    "\n",
    "1. $\\mathbf{F}\\cdot \\hat{i} = -N_{x2}-R = 0$\n",
    "2. $\\mathbf{F}\\cdot \\hat{i} = -N_{y2}+N_{y3} = 0$\n",
    "3. $M_A = l\\hat{c}_1 \\times (-R\\hat{i} + N_{y3}\\hat{j})= 0$\n",
    "\n",
    "> __Note:__ Don't count $F$ twice! You can use the applied force on the\n",
    "> left or right, but not both. Try solving the equations placing it on\n",
    "> the right bar. \n",
    "\n",
    "The four equations for $\\mathbf{F}$ relate the reaction forces\n",
    "$\\mathbf{N}_{1},~\\mathbf{N}_{2},~and~\\mathbf{N}_{3}$. The two moment\n",
    "equations relate $R$ to $F$ and $\\theta$ as such\n",
    "\n",
    "$N_{y2}L\\cos\\theta - RL\\sin\\theta = 0$\n",
    "\n",
    "and\n",
    "\n",
    "$-FL\\cos\\theta +N_{y2}\\cos\\theta+RL\\sin\\theta = 0$\n",
    "\n",
    "combining there results\n",
    "\n",
    "$F\\cos\\theta = 2R\\sin\\theta\\rightarrow R = \\frac{F}{2}\\cot\\theta$"
   ]
  },
  {
   "cell_type": "code",
   "execution_count": 16,
   "metadata": {
    "tags": [
     "hide-input"
    ]
   },
   "outputs": [
    {
     "data": {
      "text/plain": [
       "(-200.0, 200.0)"
      ]
     },
     "execution_count": 16,
     "metadata": {},
     "output_type": "execute_result"
    },
    {
     "data": {
      "image/png": "[encoded data removed]",
      "text/plain": [
       "<Figure size 432x288 with 1 Axes>"
      ]
     },
     "metadata": {},
     "output_type": "display_data"
    }
   ],
   "source": [
    "R = 50/2*np.tan(theta)**-1\n",
    "plt.plot(theta*180/np.pi, R)\n",
    "plt.xticks(np.arange(-90,91,30))\n",
    "plt.xlim(90,-90)\n",
    "plt.ylim(-200,200)"
   ]
  },
  {
   "cell_type": "code",
   "execution_count": null,
   "metadata": {},
   "outputs": [],
   "source": []
  }
 ],
 "metadata": {
  "kernelspec": {
   "display_name": "Python 3",
   "language": "python",
   "name": "python3"
  },
  "language_info": {
   "codemirror_mode": {
    "name": "ipython",
    "version": 3
   },
   "file_extension": ".py",
   "mimetype": "text/x-python",
   "name": "python",
   "nbconvert_exporter": "python",
   "pygments_lexer": "ipython3",
   "version": "3.8.3"
  }
 },
 "nbformat": 4,
 "nbformat_minor": 4
}
